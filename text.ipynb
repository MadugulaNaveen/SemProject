{
 "cells": [
  {
   "cell_type": "code",
   "execution_count": null,
   "metadata": {},
   "outputs": [
    {
     "data": {
      "text/plain": [
       "True"
      ]
     },
     "execution_count": 13,
     "metadata": {},
     "output_type": "execute_result"
    }
   ],
   "source": [
    "import cv2\n",
    "import numpy as np\n",
    "\n",
    "# Load the image\n",
    "image = cv2.imread(\"input.jpeg\")\n",
    "\n",
    "# Convert to grayscale\n",
    "gray = cv2.cvtColor(image, cv2.COLOR_BGR2GRAY)\n",
    "\n",
    "# Apply median blur\n",
    "gray_blurred = cv2.medianBlur(gray, 9)\n",
    "\n",
    "# Detect edges using adaptive thresholding\n",
    "edges = cv2.adaptiveThreshold(gray_blurred, 255, cv2.ADAPTIVE_THRESH_MEAN_C, cv2.THRESH_BINARY, 9, 9)\n",
    "\n",
    "# Apply bilateral filter to smoothen colors\n",
    "color = cv2.bilateralFilter(image, d=9, sigmaColor=250, sigmaSpace=100)\n",
    "\n",
    "# Combine edges and color\n",
    "cartoon = cv2.bitwise_and(color, color, mask=edges)\n",
    "\n",
    "# Save and display result\n",
    "cv2.imwrite(\"cartoon_image.jpg\", cartoon)\n",
    "# cv2.imshow(\"Cartoon\", cartoon)\n",
    "# cv2.waitKey(0)\n",
    "# cv2.destroyAllWindows()"
   ]
  },
  {
   "cell_type": "code",
   "execution_count": null,
   "metadata": {},
   "outputs": [
    {
     "name": "stdout",
     "output_type": "stream",
     "text": [
      "{'amazon.com': ('user_amz', 'pass123'), 'gmail.com': ('user_gmail', 'pass456')}\n",
      "('user_amz', 'pass123')\n"
     ]
    }
   ],
   "source": [
    "def text_to_bin(text):\n",
    "    \"\"\"Convert text to binary string\"\"\"\n",
    "    return ''.join(format(ord(c), '08b') for c in text)\n",
    "\n",
    "def bin_to_text(binary):\n",
    "    \"\"\"Convert binary string to text\"\"\"\n",
    "    chars = [binary[i:i+8] for i in range(0, len(binary), 8)]\n",
    "    return ''.join(chr(int(c, 2)) for c in chars)\n",
    "\n",
    "def encode_text_in_image(img, credentials, output_path):\n",
    "    \"\"\"Encodes usernames and passwords into the image using LSB\"\"\"\n",
    "    h, w, _ = img.shape\n",
    "    total_pixels = h * w\n",
    "\n",
    "    # Prepare data to store\n",
    "    data = '|'.join([f\"{site}:{user}:{password}\" for site, user, password in credentials])\n",
    "    binary_data = text_to_bin(data) + '1111111111111110'  \n",
    "\n",
    "    if len(binary_data) > total_pixels * 3:\n",
    "        raise ValueError(\"Data too large for image\")\n",
    "\n",
    "    data_index = 0\n",
    "    for row in range(h):\n",
    "        for col in range(w):\n",
    "            for color in range(3):  # Modify R, G, B channels\n",
    "                if data_index < len(binary_data):\n",
    "                    img[row, col, color] = (img[row, col, color] & 0xFE) | int(binary_data[data_index])\n",
    "                    data_index += 1\n",
    "                else:\n",
    "                    cv2.imwrite(output_path, img)\n",
    "                    return\n",
    "\n",
    "def decode_text_from_image(image_path):\n",
    "    \"\"\"Decodes usernames and passwords from the image\"\"\"\n",
    "    img = cv2.imread(image_path)\n",
    "    binary_data = \"\"\n",
    "    \n",
    "    for row in img:\n",
    "        for pixel in row:\n",
    "            for color in pixel:\n",
    "                binary_data += str(color & 1)  \n",
    "\n",
    "    # Find stopping sequence\n",
    "    end_index = binary_data.find('1111111111111110')\n",
    "    if end_index != -1:\n",
    "        binary_data = binary_data[:end_index]\n",
    "\n",
    "    text_data = bin_to_text(binary_data)\n",
    "    credentials = {}\n",
    "    for entry in text_data.split('|'):\n",
    "        site, user, password = entry.split(':')\n",
    "        credentials[site] = (user, password)\n",
    "    \n",
    "    print(credentials)\n",
    "    return credentials\n",
    "\n",
    "def retrieve_credentials(image_path, website):\n",
    "    \"\"\"Retrieve credentials for a specific website\"\"\"\n",
    "    credentials = decode_text_from_image(image_path)\n",
    "    return credentials.get(website, \"No credentials found\")\n",
    "\n",
    "output_file = \"passwordEncryptedImage.png\"\n",
    "\n",
    "# Adding credentials over time\n",
    "credentials_list = [(\"amazon.com\", \"user_amz\", \"pass123\"), (\"gmail.com\", \"user_gmail\", \"pass456\")]\n",
    "encode_text_in_image(cartoon, credentials_list, output_file)\n",
    "\n",
    "# Retrieve specific credentials\n",
    "website = \"amazon.com\"\n",
    "print(retrieve_credentials(output_file, website))"
   ]
  }
 ],
 "metadata": {
  "kernelspec": {
   "display_name": "venv",
   "language": "python",
   "name": "python3"
  },
  "language_info": {
   "codemirror_mode": {
    "name": "ipython",
    "version": 3
   },
   "file_extension": ".py",
   "mimetype": "text/x-python",
   "name": "python",
   "nbconvert_exporter": "python",
   "pygments_lexer": "ipython3",
   "version": "3.12.1"
  }
 },
 "nbformat": 4,
 "nbformat_minor": 2
}
